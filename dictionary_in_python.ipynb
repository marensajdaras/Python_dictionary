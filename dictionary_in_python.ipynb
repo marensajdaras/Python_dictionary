{
 "cells": [
  {
   "cell_type": "markdown",
   "metadata": {},
   "source": [
    "Here I want to make a brief summary for the association of the term \"dictionary\" with \"associative array\".\n",
    "\n",
    "Arrays are a collections of elements, each identified by at least one array index or key.\n",
    "Association mean a connection or relationship between things.\n",
    "Associative arrays are basically objects where indexes are replaced by user-defined keys. They do not have a length property like a normal array and cannot be traversed using a normal for loop. When I say normal array I mean lists or tuples.\n",
    "Python does not have build-in support for arrays, so everything I said above you must use it as a description for what I am going to explain now.\n",
    "But Python provide lists, that are arrays indeed. (Lists = Arrays)\n",
    "In computer science, an associative array is an abstract data type composed of a collection of (key,value) pairs, such that each possible key appears at most once in the collection.\n",
    "So in this collection we have only one key, keys are unique.\n",
    "\n"
   ]
  },
  {
   "cell_type": "code",
   "execution_count": 5,
   "metadata": {},
   "outputs": [
    {
     "name": "stdout",
     "output_type": "stream",
     "text": [
      "{'language': 'Python', 'type': 'high-level'}\n"
     ]
    }
   ],
   "source": [
    "# for example\n",
    "programmer = {'language' : 'Python', 'type' : 'high-level'}\n",
    "print(programmer)\n",
    "# language and type are keys and they can be only once in this dictionary. \n",
    "# values are Python and high-level\n",
    "\n"
   ]
  },
  {
   "cell_type": "markdown",
   "metadata": {},
   "source": [
    "We can see a connection here between keys and values.\n",
    "And this connection is the reason why we call dictionaries associative arrays.\n",
    "\n",
    "\n",
    "(Look at the explanation at the start of this text)\n",
    "(Dictionaries = Associative arrays)\n",
    "In an associative array, the association between a key and a value is often known as a \"mapping\", and the same word mapping may also be used to refer to the process of creating a new association.\n",
    "\n",
    "\n",
    "Operations used in dictionaries are:"
   ]
  },
  {
   "cell_type": "code",
   "execution_count": 15,
   "metadata": {},
   "outputs": [
    {
     "name": "stdout",
     "output_type": "stream",
     "text": [
      "{'language': 'Python', 'prefered website': 'github'}\n",
      "\n",
      "\n",
      "{'language': 'Python', 'prefered website': 'stackoverflow'}\n",
      "\n",
      "\n",
      "stackoverflow\n",
      "\n",
      "\n",
      "Dict after pop method:  {'language': 'Python'}\n",
      "\n",
      "\n",
      "('language', 'Python')\n",
      "{}\n"
     ]
    }
   ],
   "source": [
    "\n",
    "# add or insert\n",
    "# with this statement we have added an new item in dictionary. An item is an pair (key:value).\n",
    "programmer['prefered website'] = 'github' # to say it in a different way, we have mapped the new key to its new value.\n",
    "print(programmer)\n",
    "print('\\n')\n",
    "# reassign\n",
    "# with this statement we have reassign the value of the particular key\n",
    "programmer['prefered website'] = 'stackoverflow' # we have mapped an existing key to a new value.\n",
    "print(programmer)\n",
    "print('\\n')\n",
    "# remove or delete\n",
    "print(programmer.pop('prefered website')) # pop takes key as argument and \n",
    "print('\\n')\n",
    "print('Dict after pop method: ', programmer) # we see dict without 'prefered website' item\n",
    "print('\\n')\n",
    "print(programmer.popitem()) # just delete all the list\n",
    "print(programmer)\n",
    "\n",
    "\n"
   ]
  }
 ],
 "metadata": {
  "interpreter": {
   "hash": "8fac594bfae6525c0c41b4041d2d72effa188cc8ead05f81b1fab2bb098927fb"
  },
  "kernelspec": {
   "display_name": "Python 3.9.7 ('base')",
   "language": "python",
   "name": "python3"
  },
  "language_info": {
   "codemirror_mode": {
    "name": "ipython",
    "version": 3
   },
   "file_extension": ".py",
   "mimetype": "text/x-python",
   "name": "python",
   "nbconvert_exporter": "python",
   "pygments_lexer": "ipython3",
   "version": "3.9.7"
  },
  "orig_nbformat": 4
 },
 "nbformat": 4,
 "nbformat_minor": 2
}
